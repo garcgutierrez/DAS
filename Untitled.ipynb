{
 "cells": [
  {
   "cell_type": "code",
   "execution_count": 380,
   "id": "f214b608",
   "metadata": {},
   "outputs": [],
   "source": [
    "from pylab import *"
   ]
  },
  {
   "cell_type": "code",
   "execution_count": 381,
   "id": "0127b423",
   "metadata": {},
   "outputs": [],
   "source": [
    "D=5;\n",
    "eta = 0.15; Fpg = 0.8; alpha=0.75; epsilon = 0.75; C=10#Kj/K"
   ]
  },
  {
   "cell_type": "code",
   "execution_count": 382,
   "id": "0e223b35",
   "metadata": {},
   "outputs": [],
   "source": [
    "fdis = lambda t: double((t/60)%(90)<15.1)"
   ]
  },
  {
   "cell_type": "code",
   "execution_count": 383,
   "id": "282da860",
   "metadata": {},
   "outputs": [
    {
     "data": {
      "text/plain": [
       "1.0"
      ]
     },
     "execution_count": 383,
     "metadata": {},
     "output_type": "execute_result"
    }
   ],
   "source": [
    "fdis(91)"
   ]
  },
  {
   "cell_type": "code",
   "execution_count": 384,
   "id": "3b183e18",
   "metadata": {},
   "outputs": [],
   "source": [
    "RHS = lambda t, Te: (194*fdis(t) + 169 - 33*10**(-9)*(Te)**4)/(30*10**3)"
   ]
  },
  {
   "cell_type": "code",
   "execution_count": 385,
   "id": "d5550920",
   "metadata": {},
   "outputs": [],
   "source": [
    "t = linspace(0,36000, 20000)"
   ]
  },
  {
   "cell_type": "code",
   "execution_count": 386,
   "id": "d3f08a02",
   "metadata": {},
   "outputs": [
    {
     "data": {
      "text/plain": [
       "[<matplotlib.lines.Line2D at 0x20ea442c0a0>]"
      ]
     },
     "execution_count": 386,
     "metadata": {},
     "output_type": "execute_result"
    },
    {
     "data": {
      "image/png": "[encoded data removed]",
      "text/plain": [
       "<Figure size 432x288 with 1 Axes>"
      ]
     },
     "metadata": {
      "needs_background": "light"
     },
     "output_type": "display_data"
    }
   ],
   "source": [
    "plot(t/60, fdis(t))"
   ]
  },
  {
   "cell_type": "code",
   "execution_count": 387,
   "id": "e8035281",
   "metadata": {},
   "outputs": [],
   "source": [
    "from scipy import integrate"
   ]
  },
  {
   "cell_type": "code",
   "execution_count": 388,
   "id": "cbf31b2e",
   "metadata": {},
   "outputs": [
    {
     "data": {
      "text/plain": [
       "<scipy.integrate._ode.ode at 0x20ea4442d60>"
      ]
     },
     "execution_count": 388,
     "metadata": {},
     "output_type": "execute_result"
    }
   ],
   "source": [
    "r = integrate.ode(RHS).set_integrator('dop853')\n",
    "r.set_initial_value(300, 0)"
   ]
  },
  {
   "cell_type": "code",
   "execution_count": 389,
   "id": "b0a1f979",
   "metadata": {},
   "outputs": [],
   "source": [
    "sol = []; ts = []; dt = 0.005;"
   ]
  },
  {
   "cell_type": "code",
   "execution_count": 390,
   "id": "552277aa",
   "metadata": {},
   "outputs": [],
   "source": [
    "while r.successful() and r.t < t[-1]:\n",
    "    ts.append(r.t)\n",
    "    r.integrate(r.t+dt)\n",
    "    sol.append(r.y)\n",
    "    #print(r.y)\n",
    "    #print(\"{}    {}\".format(r.t+dt,r.integrate(r.t+dt)))"
   ]
  },
  {
   "cell_type": "code",
   "execution_count": 391,
   "id": "3e7a443d",
   "metadata": {},
   "outputs": [
    {
     "data": {
      "text/plain": [
       "6.666666666757225"
      ]
     },
     "execution_count": 391,
     "metadata": {},
     "output_type": "execute_result"
    }
   ],
   "source": [
    "r.t/60/90"
   ]
  },
  {
   "cell_type": "code",
   "execution_count": 392,
   "id": "17e8d08d",
   "metadata": {},
   "outputs": [
    {
     "data": {
      "text/plain": [
       "[<matplotlib.lines.Line2D at 0x20eaca8f8e0>]"
      ]
     },
     "execution_count": 392,
     "metadata": {},
     "output_type": "execute_result"
    },
    {
     "data": {
      "image/png": "[encoded data removed]",
      "text/plain": [
       "<Figure size 432x288 with 1 Axes>"
      ]
     },
     "metadata": {
      "needs_background": "light"
     },
     "output_type": "display_data"
    }
   ],
   "source": [
    "plot(array(ts)/60/90,array(sol)-273.0)\n",
    "plot(t/60/90, fdis(t))"
   ]
  }
 ],
 "metadata": {
  "kernelspec": {
   "display_name": "Python 3 (ipykernel)",
   "language": "python",
   "name": "python3"
  },
  "language_info": {
   "codemirror_mode": {
    "name": "ipython",
    "version": 3
   },
   "file_extension": ".py",
   "mimetype": "text/x-python",
   "name": "python",
   "nbconvert_exporter": "python",
   "pygments_lexer": "ipython3",
   "version": "3.8.11"
  }
 },
 "nbformat": 4,
 "nbformat_minor": 5
}
