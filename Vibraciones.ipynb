{
 "cells": [
  {
   "cell_type": "code",
   "execution_count": 291,
   "id": "9f8e990c-dd5e-47fb-954a-f43522feda64",
   "metadata": {},
   "outputs": [],
   "source": [
    " from sympy import *\n",
    "init_printing()"
   ]
  },
  {
   "cell_type": "code",
   "execution_count": 292,
   "id": "394503c4-4c71-4402-80b3-1215399a4f34",
   "metadata": {},
   "outputs": [],
   "source": [
    "x = Symbol('x')\n",
    "EI = Symbol('EI')\n",
    "R = Symbol('R')\n",
    "omega = Symbol('omega')\n",
    "ll = Symbol('lambda')"
   ]
  },
  {
   "cell_type": "code",
   "execution_count": 293,
   "id": "d6bccb3a-416c-4bf4-9388-9a4efe3bba21",
   "metadata": {
    "tags": []
   },
   "outputs": [],
   "source": [
    "gamma_1 = x"
   ]
  },
  {
   "cell_type": "code",
   "execution_count": 294,
   "id": "f62d2c53-8f43-44c6-93c8-441680dbcd56",
   "metadata": {},
   "outputs": [],
   "source": [
    "gamma_2 = 10*x**3/3 - 10*x**4/3 + x**5"
   ]
  },
  {
   "cell_type": "code",
   "execution_count": 295,
   "id": "c1930a19-76e5-4fec-b701-931745acc6d5",
   "metadata": {},
   "outputs": [],
   "source": [
    "A11 = integrate(gamma_1*gamma_1, (x, 0, 1))"
   ]
  },
  {
   "cell_type": "code",
   "execution_count": 296,
   "id": "c4c061a4-ec0b-4747-977b-110516d54a02",
   "metadata": {},
   "outputs": [],
   "source": [
    "A12 = integrate(gamma_1*gamma_2, (x, 0, 1))"
   ]
  },
  {
   "cell_type": "code",
   "execution_count": 297,
   "id": "70e93b96-802d-4a2d-87d9-9f61a5574546",
   "metadata": {},
   "outputs": [
    {
     "data": {
      "image/png": "[encoded data removed]",
      "text/latex": [
       "$\\displaystyle \\frac{16}{63}$"
      ],
      "text/plain": [
       "16\n",
       "──\n",
       "63"
      ]
     },
     "execution_count": 297,
     "metadata": {},
     "output_type": "execute_result"
    }
   ],
   "source": [
    "A12"
   ]
  },
  {
   "cell_type": "code",
   "execution_count": 298,
   "id": "87c2868a-8827-4ae5-90b7-78f82fd63d6e",
   "metadata": {},
   "outputs": [],
   "source": [
    "A22 = integrate(gamma_2*gamma_2, (x, 0, 1))"
   ]
  },
  {
   "cell_type": "code",
   "execution_count": 299,
   "id": "bb822539-e145-47cb-852e-5d0266e61785",
   "metadata": {},
   "outputs": [],
   "source": [
    "G = integrate(omega**2*x, (x,x*R, R))"
   ]
  },
  {
   "cell_type": "code",
   "execution_count": 300,
   "id": "87b7d5ac-e633-4835-a09a-fe54f688f3fe",
   "metadata": {},
   "outputs": [
    {
     "data": {
      "image/png": "[encoded data removed]",
      "text/latex": [
       "$\\displaystyle - \\frac{R^{2} \\omega^{2} x^{2}}{2} + \\frac{R^{2} \\omega^{2}}{2}$"
      ],
      "text/plain": [
       "   2  2  2    2  2\n",
       "  R ⋅ω ⋅x    R ⋅ω \n",
       "- ──────── + ─────\n",
       "     2         2  "
      ]
     },
     "execution_count": 300,
     "metadata": {},
     "output_type": "execute_result"
    }
   ],
   "source": [
    "G"
   ]
  },
  {
   "cell_type": "code",
   "execution_count": 301,
   "id": "86d5363b-0581-4053-8192-d3a697899369",
   "metadata": {},
   "outputs": [],
   "source": [
    "def calcB(gamma_1, gamma_2):\n",
    "    der1_2 = diff(gamma_1,x,2)\n",
    "    der1_1 = diff(gamma_1,x,1)\n",
    "    der2_1 = diff(gamma_2,x,1)\n",
    "    integrando = EI*der1_2*der2_2+R**2*G*der1_1*der2_1\n",
    "    sol = integrate(integrando,(x, 0, 1))/(2*R)/(omega**2*R**3)\n",
    "    return(sol*2)"
   ]
  },
  {
   "cell_type": "code",
   "execution_count": 302,
   "id": "e1484e05-5ef0-450d-8693-e59b9ba52bdd",
   "metadata": {},
   "outputs": [],
   "source": [
    "B11 = calcB(gamma_1, gamma_1)"
   ]
  },
  {
   "cell_type": "code",
   "execution_count": 303,
   "id": "60b88b11-cb5b-4768-a831-ca9cc2e42cc8",
   "metadata": {},
   "outputs": [],
   "source": [
    "B12 = calcB(gamma_1, gamma_2)"
   ]
  },
  {
   "cell_type": "code",
   "execution_count": 304,
   "id": "b9e6be6f-5cbb-426a-8e59-8a7746968af1",
   "metadata": {},
   "outputs": [],
   "source": [
    "B22 = calcB(gamma_2, gamma_2).simplify()"
   ]
  },
  {
   "cell_type": "code",
   "execution_count": 305,
   "id": "7c8a01ba-946a-45a3-b461-c189f299243a",
   "metadata": {},
   "outputs": [],
   "source": [
    "k = Symbol('k')"
   ]
  },
  {
   "cell_type": "code",
   "execution_count": 306,
   "id": "fe3d3608-b063-420d-8575-9bd0391cc53a",
   "metadata": {},
   "outputs": [],
   "source": [
    "B22 = B22.subs(EI,k*R**4*omega**2)"
   ]
  },
  {
   "cell_type": "code",
   "execution_count": 307,
   "id": "ce8b7f69-3cd7-46a6-951e-94b2f278fd36",
   "metadata": {},
   "outputs": [
    {
     "data": {
      "image/png": "[encoded data removed]",
      "text/latex": [
       "$\\displaystyle \\frac{80 k}{21} + \\frac{1850}{6237}$"
      ],
      "text/plain": [
       "80⋅k   1850\n",
       "──── + ────\n",
       " 21    6237"
      ]
     },
     "execution_count": 307,
     "metadata": {},
     "output_type": "execute_result"
    }
   ],
   "source": [
    "B22"
   ]
  },
  {
   "cell_type": "code",
   "execution_count": 308,
   "id": "43fc9c26-65e8-4de7-b11a-b9d45486d2d0",
   "metadata": {},
   "outputs": [],
   "source": [
    "LHS =  Matrix([[B11, B12], [B12, B22]])- ll**2*Matrix([[A11, A12], [A12, A22]])"
   ]
  },
  {
   "cell_type": "code",
   "execution_count": 309,
   "id": "fa30022a-f295-489f-97f3-d7f1df56d421",
   "metadata": {},
   "outputs": [
    {
     "data": {
      "image/png": "[encoded data removed]",
      "text/latex": [
       "$\\displaystyle \\left[\\begin{matrix}\\frac{1}{3} - \\frac{\\lambda^{2}}{3} & \\frac{16}{63} - \\frac{16 \\lambda^{2}}{63}\\\\\\frac{16}{63} - \\frac{16 \\lambda^{2}}{63} & \\frac{80 k}{21} - \\frac{1304 \\lambda^{2}}{6237} + \\frac{1850}{6237}\\end{matrix}\\right]$"
      ],
      "text/plain": [
       "⎡       2                  2      ⎤\n",
       "⎢  1   λ          16   16⋅λ       ⎥\n",
       "⎢  ─ - ──         ── - ─────      ⎥\n",
       "⎢  3   3          63     63       ⎥\n",
       "⎢                                 ⎥\n",
       "⎢         2               2       ⎥\n",
       "⎢16   16⋅λ   80⋅k   1304⋅λ    1850⎥\n",
       "⎢── - ─────  ──── - ─────── + ────⎥\n",
       "⎣63     63    21      6237    6237⎦"
      ]
     },
     "execution_count": 309,
     "metadata": {},
     "output_type": "execute_result"
    }
   ],
   "source": [
    "LHS"
   ]
  },
  {
   "cell_type": "code",
   "execution_count": 310,
   "id": "86acc39f-356e-466f-b343-bdcf6d82a4ff",
   "metadata": {},
   "outputs": [],
   "source": [
    "determinante = det(LHS).subs(k,0.004).simplify()"
   ]
  },
  {
   "cell_type": "code",
   "execution_count": 311,
   "id": "7463b690-4acd-412c-9bd0-650ce15f8219",
   "metadata": {},
   "outputs": [
    {
     "data": {
      "image/png": "[encoded data removed]",
      "text/latex": [
       "$\\displaystyle 0.0446435633737221 \\left(0.116293387694791 \\lambda^{4} - 1.0 \\lambda^{2} + 0.883706612305208\\right)$"
      ],
      "text/plain": [
       "                   ⎛                   4    2                    ⎞\n",
       "0.0446435633737221⋅⎝0.116293387694791⋅λ  - λ  + 0.883706612305208⎠"
      ]
     },
     "execution_count": 311,
     "metadata": {},
     "output_type": "execute_result"
    }
   ],
   "source": [
    "factor(determinante)"
   ]
  },
  {
   "cell_type": "code",
   "execution_count": 313,
   "id": "ba1d76f1-928e-48d9-aeae-15190f208a8d",
   "metadata": {
    "tags": []
   },
   "outputs": [],
   "source": [
    "soluciones = roots(determinante)"
   ]
  },
  {
   "cell_type": "code",
   "execution_count": 375,
   "id": "4cbd6d20-6c89-4fd9-8bdb-30259494cb1b",
   "metadata": {},
   "outputs": [],
   "source": [
    "sol = list(soluciones.keys());"
   ]
  },
  {
   "cell_type": "code",
   "execution_count": 376,
   "id": "70ced294-998d-4d8f-a9fc-7205694fa5f8",
   "metadata": {},
   "outputs": [
    {
     "data": {
      "image/png": "[encoded data removed]",
      "text/latex": [
       "$\\displaystyle \\left[ -2.75661770589804, \\  -1.0, \\  1.0, \\  2.75661770589804\\right]$"
      ],
      "text/plain": [
       "[-2.75661770589804, -1.0, 1.0, 2.75661770589804]"
      ]
     },
     "execution_count": 376,
     "metadata": {},
     "output_type": "execute_result"
    }
   ],
   "source": [
    "sol"
   ]
  },
  {
   "cell_type": "code",
   "execution_count": 349,
   "id": "6f4c4049-8647-4713-b5bd-7a1ee63181f2",
   "metadata": {},
   "outputs": [],
   "source": [
    "phi_1 = Symbol('phi_1')\n",
    "phi_2 = Symbol('phi_2')"
   ]
  },
  {
   "cell_type": "code",
   "execution_count": 378,
   "id": "c36617d5-4889-47c5-a678-b87d98f35b4b",
   "metadata": {},
   "outputs": [
    {
     "data": {
      "image/png": "[encoded data removed]",
      "text/latex": [
       "$\\displaystyle \\left[\\begin{matrix}2.22044604925031 \\cdot 10^{-16} & 1.66533453693773 \\cdot 10^{-16} & 0\\\\1.66533453693773 \\cdot 10^{-16} & 0.102780182780183 & 0\\end{matrix}\\right]$"
      ],
      "text/plain": [
       "⎡2.22044604925031e-16  1.66533453693773e-16  0⎤\n",
       "⎢                                             ⎥\n",
       "⎣1.66533453693773e-16   0.102780182780183    0⎦"
      ]
     },
     "execution_count": 378,
     "metadata": {},
     "output_type": "execute_result"
    }
   ],
   "source": [
    "Sistema = LHS.subs(k,0.004).subs(ll, sol[2])\n",
    "Sistema = Sistema.col_insert(2, Matrix([0, 0]))\n",
    "solve_linear_system(Sistema, phi_1, phi_2)\n",
    "Sistema"
   ]
  },
  {
   "cell_type": "code",
   "execution_count": 379,
   "id": "6c666984-9ac3-4b2c-bd58-f9b762b50046",
   "metadata": {},
   "outputs": [],
   "source": [
    "Modo1 = gamma_1"
   ]
  },
  {
   "cell_type": "code",
   "execution_count": 368,
   "id": "78fea9f1-9357-4185-8fe4-12acb820489f",
   "metadata": {},
   "outputs": [
    {
     "data": {
      "image/png": "[encoded data removed]",
      "text/latex": [
       "$\\displaystyle \\left\\{ \\phi_{1} : - 0.761904761904762 \\phi_{2}\\right\\}$"
      ],
      "text/plain": [
       "{φ₁: -0.761904761904762⋅φ₂}"
      ]
     },
     "execution_count": 368,
     "metadata": {},
     "output_type": "execute_result"
    }
   ],
   "source": [
    "Sistema = LHS.subs(k,0.004).subs(ll, sol[3])\n",
    "Sistema = Sistema.col_insert(2, Matrix([0, 0]))\n",
    "solve_linear_system(Sistema, phi_1, phi_2)"
   ]
  },
  {
   "cell_type": "code",
   "execution_count": 389,
   "id": "b5dfe359-16d4-4ab5-a94f-faf94166db5a",
   "metadata": {},
   "outputs": [],
   "source": [
    "Modo2 = -0.76*gamma_1+gamma_2\n",
    "Modo2 = Modo2/Modo2.subs(x,1.0)"
   ]
  },
  {
   "cell_type": "code",
   "execution_count": 390,
   "id": "3e89140a-1a0c-4393-aee5-d5b1abfe6042",
   "metadata": {},
   "outputs": [
    {
     "data": {
      "image/png": "[encoded data removed]",
      "text/latex": [
       "$\\displaystyle 4.16666666666667 x^{5} - 13.8888888888889 x^{4} + 13.8888888888889 x^{3} - 3.16666666666667 x$"
      ],
      "text/plain": [
       "                  5                     4                     3               \n",
       "4.16666666666667⋅x  - 13.8888888888889⋅x  + 13.8888888888889⋅x  - 3.1666666666\n",
       "\n",
       "      \n",
       "6667⋅x"
      ]
     },
     "execution_count": 390,
     "metadata": {},
     "output_type": "execute_result"
    }
   ],
   "source": [
    "Modo2"
   ]
  },
  {
   "cell_type": "code",
   "execution_count": 391,
   "id": "b0bcb763-fb24-48dd-a36b-2f628fec31e5",
   "metadata": {},
   "outputs": [
    {
     "data": {
      "image/png": "[encoded data removed]",
      "text/plain": [
       "<Figure size 432x288 with 1 Axes>"
      ]
     },
     "metadata": {
      "needs_background": "light"
     },
     "output_type": "display_data"
    }
   ],
   "source": [
    "p1 = plot(Modo2,Modo1,(x, 0, 1))"
   ]
  },
  {
   "cell_type": "code",
   "execution_count": null,
   "id": "0c7ba4f0-1925-45ae-baca-6e3acafedb34",
   "metadata": {},
   "outputs": [],
   "source": []
  }
 ],
 "metadata": {
  "kernelspec": {
   "display_name": "Python 3 (ipykernel)",
   "language": "python",
   "name": "python3"
  },
  "language_info": {
   "codemirror_mode": {
    "name": "ipython",
    "version": 3
   },
   "file_extension": ".py",
   "mimetype": "text/x-python",
   "name": "python",
   "nbconvert_exporter": "python",
   "pygments_lexer": "ipython3",
   "version": "3.8.11"
  }
 },
 "nbformat": 4,
 "nbformat_minor": 5
}
